{
    "cells": [
        {
            "cell_type": "markdown",
            "metadata": {
                "collapsed": true
            },
            "source": "# Final Capstone Project Week 1"
        },
        {
            "cell_type": "markdown",
            "metadata": {},
            "source": "An owner of a chain of restaurants wants to open a new location in Toronto Christie neighborhood. He is very satisfied with the success of his latest open and would like to repeat it with the new location in New York. Our objective is to find a neighborhood in New York that is similar to Central Bay Street in terms of venue types and share."
        },
        {
            "cell_type": "markdown",
            "metadata": {},
            "source": "We will use the FourSquare Explore Venues API to get the venues data from each neighborhood for New York and for Christie neighborhood in Toronto. After that we will analyze each neighborhood from New York and will compare it to Christie neighborhood to what neighborhoods are similar to it in New York."
        },
        {
            "cell_type": "markdown",
            "metadata": {},
            "source": "We'll analyze first the data for Christie neighborhood, calculate the venue type frequencies and after that add it in the new york dataframe and run a Kmeans algorithm on the merged dataset to see with what neighborhoods Christie is clustering."
        },
        {
            "cell_type": "code",
            "execution_count": null,
            "metadata": {},
            "outputs": [],
            "source": ""
        }
    ],
    "metadata": {
        "kernelspec": {
            "display_name": "Python 3.6",
            "language": "python",
            "name": "python3"
        },
        "language_info": {
            "codemirror_mode": {
                "name": "ipython",
                "version": 3
            },
            "file_extension": ".py",
            "mimetype": "text/x-python",
            "name": "python",
            "nbconvert_exporter": "python",
            "pygments_lexer": "ipython3",
            "version": "3.6.9"
        }
    },
    "nbformat": 4,
    "nbformat_minor": 1
}